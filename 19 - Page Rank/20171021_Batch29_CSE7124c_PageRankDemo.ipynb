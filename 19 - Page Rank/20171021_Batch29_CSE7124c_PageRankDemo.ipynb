{
 "cells": [
  {
   "cell_type": "code",
   "execution_count": 5,
   "metadata": {},
   "outputs": [
    {
     "name": "stdout",
     "output_type": "stream",
     "text": [
      "Processing c:\\users\\classroom1\\python_igraph-0.7.1.post6-cp27-none-win_amd64.whl\n",
      "Installing collected packages: python-igraph\n",
      "Successfully installed python-igraph-0.7.1.post6\n"
     ]
    }
   ],
   "source": [
    "!pip install python_igraph-0.7.1.post6-cp27-none-win_amd64.whl"
   ]
  },
  {
   "cell_type": "code",
   "execution_count": 1,
   "metadata": {},
   "outputs": [],
   "source": [
    "#!pip install upgrade igraph"
   ]
  },
  {
   "cell_type": "code",
   "execution_count": 6,
   "metadata": {},
   "outputs": [],
   "source": [
    "import igraph"
   ]
  },
  {
   "cell_type": "code",
   "execution_count": 21,
   "metadata": {},
   "outputs": [],
   "source": [
    "from igraph import *\n",
    "g = Graph(directed=True)\n",
    "g.add_vertices(3)\n",
    "g.add_edges([(0,1),(1,0),(1,2),(2,0)])\n",
    "g.write_svg(\"test1.svg\")"
   ]
  },
  {
   "cell_type": "code",
   "execution_count": 8,
   "metadata": {},
   "outputs": [
    {
     "name": "stdout",
     "output_type": "stream",
     "text": [
      "IGRAPH D--- 3 4 --\n",
      "+ edges:\n",
      "0->1 1->0 1->2 2->0\n"
     ]
    }
   ],
   "source": [
    "print g"
   ]
  },
  {
   "cell_type": "code",
   "execution_count": 22,
   "metadata": {},
   "outputs": [
    {
     "data": {
      "text/plain": [
       "[0.3973996608253251, 0.3877897117015263, 0.21481062747314866]"
      ]
     },
     "execution_count": 22,
     "metadata": {},
     "output_type": "execute_result"
    }
   ],
   "source": [
    "g.pagerank()"
   ]
  },
  {
   "cell_type": "markdown",
   "metadata": {},
   "source": [
    "# Let us try to see the manual calculation we will use the formula\n",
    "# (1-d)/N+d*(PR(Ti)/NO(Ti)+......+(PR(Tn)/NO(Tn))"
   ]
  },
  {
   "cell_type": "code",
   "execution_count": 23,
   "metadata": {},
   "outputs": [
    {
     "name": "stdout",
     "output_type": "stream",
     "text": [
      "0.474575\n",
      "0.33305\n",
      "0.191525\n"
     ]
    }
   ],
   "source": [
    "#Round 1\n",
    "# initial ranking of all page was .3333 which is equally distributed.\n",
    "#page rank of page A, \n",
    "print((.15/3)+.85*((.333/2)+.333))\n",
    "#page rank of B\n",
    "print((.15/3)+.85*(.333))\n",
    "#page rank of B\n",
    "print((.15/3)+.85*(.333/2))"
   ]
  },
  {
   "cell_type": "code",
   "execution_count": 11,
   "metadata": {
    "scrolled": true
   },
   "outputs": [
    {
     "name": "stdout",
     "output_type": "stream",
     "text": [
      "0.3543425\n",
      "0.45338875\n",
      "0.19154625\n"
     ]
    }
   ],
   "source": [
    "#Round 2\n",
    "#page rank of page A, \n",
    "print((.15/3)+.85*((0.33305/2)+0.191525))\n",
    "#page rank of B\n",
    "print((.15/3)+.85*(0.474575))\n",
    "#page rank of B\n",
    "print((.15/3)+.85*(0.33305/2))"
   ]
  },
  {
   "cell_type": "code",
   "execution_count": 12,
   "metadata": {},
   "outputs": [
    {
     "name": "stdout",
     "output_type": "stream",
     "text": [
      "0.40550453125\n",
      "0.351191125\n",
      "0.24269021875\n"
     ]
    }
   ],
   "source": [
    "#Round 3\n",
    "#page rank of page A, \n",
    "print((.15/3)+.85*((0.45338875/2)+0.19154625))\n",
    "#page rank of B\n",
    "print((.15/3)+.85*(0.3543425))\n",
    "#page rank of B\n",
    "print((.15/3)+.85*(0.45338875/2))"
   ]
  },
  {
   "cell_type": "code",
   "execution_count": 13,
   "metadata": {
    "scrolled": true
   },
   "outputs": [
    {
     "name": "stdout",
     "output_type": "stream",
     "text": [
      "0.405542914062\n",
      "0.394678851562\n",
      "0.199256228125\n"
     ]
    }
   ],
   "source": [
    "#Round 4\n",
    "#page rank of page A, \n",
    "print((.15/3)+.85*((0.351191125/2)+0.24269021875))\n",
    "#page rank of B\n",
    "print((.15/3)+.85*(0.40550453125))\n",
    "#page rank of B\n",
    "print((.15/3)+.85*(0.351191125/2))"
   ]
  },
  {
   "cell_type": "code",
   "execution_count": 14,
   "metadata": {},
   "outputs": [
    {
     "name": "stdout",
     "output_type": "stream",
     "text": [
      "0.38710630582\n",
      "0.394711476953\n",
      "0.217738511914\n"
     ]
    }
   ],
   "source": [
    "#Round 5\n",
    "#page rank of page A, \n",
    "print((.15/3)+.85*((0.394678851562/2)+0.199256228125))\n",
    "#page rank of B\n",
    "print((.15/3)+.85*(0.405542914062))\n",
    "#page rank of B\n",
    "print((.15/3)+.85*(0.394678851562/2))"
   ]
  },
  {
   "cell_type": "code",
   "execution_count": 15,
   "metadata": {},
   "outputs": [
    {
     "name": "stdout",
     "output_type": "stream",
     "text": [
      "0.402830112832\n",
      "0.379040359947\n",
      "0.217752377705\n"
     ]
    }
   ],
   "source": [
    "#Round 6\n",
    "#page rank of page A, \n",
    "print((.15/3)+.85*((0.394711476953/2)+0.217738511914))\n",
    "#page rank of B\n",
    "print((.15/3)+.85*(0.38710630582))\n",
    "#page rank of B\n",
    "print((.15/3)+.85*(0.394711476953/2))"
   ]
  },
  {
   "cell_type": "code",
   "execution_count": 16,
   "metadata": {},
   "outputs": [
    {
     "name": "stdout",
     "output_type": "stream",
     "text": [
      "0.396181674027\n",
      "0.392405595907\n",
      "0.211092152977\n"
     ]
    }
   ],
   "source": [
    "#Round 7\n",
    "#page rank of page A, \n",
    "print((.15/3)+.85*((0.379040359947/2)+0.217752377705))\n",
    "#page rank of B\n",
    "print((.15/3)+.85*(0.402830112832))\n",
    "#page rank of B\n",
    "print((.15/3)+.85*(0.379040359947/2))"
   ]
  },
  {
   "cell_type": "code",
   "execution_count": 17,
   "metadata": {},
   "outputs": [
    {
     "name": "stdout",
     "output_type": "stream",
     "text": [
      "0.396200708291\n",
      "0.386754422923\n",
      "0.21677237826\n"
     ]
    }
   ],
   "source": [
    "#Round 8\n",
    "#page rank of page A, \n",
    "print((.15/3)+.85*((0.392405595907/2)+0.211092152977))\n",
    "#page rank of B\n",
    "print((.15/3)+.85*(0.396181674027))\n",
    "#page rank of B\n",
    "print((.15/3)+.85*(0.392405595907/2))"
   ]
  },
  {
   "cell_type": "code",
   "execution_count": 18,
   "metadata": {},
   "outputs": [
    {
     "name": "stdout",
     "output_type": "stream",
     "text": [
      "0.398627151263\n",
      "0.386770602047\n",
      "0.214370629742\n"
     ]
    }
   ],
   "source": [
    "#Round 9\n",
    "#page rank of page A, \n",
    "print((.15/3)+.85*((0.386754422923/2)+0.21677237826))\n",
    "#page rank of B\n",
    "print((.15/3)+.85*(0.396200708291))\n",
    "#page rank of B\n",
    "print((.15/3)+.85*(0.386754422923/2))"
   ]
  },
  {
   "cell_type": "code",
   "execution_count": 19,
   "metadata": {},
   "outputs": [
    {
     "name": "stdout",
     "output_type": "stream",
     "text": [
      "0.396592541151\n",
      "0.388833078574\n",
      "0.21437750587\n"
     ]
    }
   ],
   "source": [
    "#Round 10\n",
    "#page rank of page A, \n",
    "print((.15/3)+.85*((0.386770602047/2)+0.214370629742))\n",
    "#page rank of B\n",
    "print((.15/3)+.85*(0.398627151263))\n",
    "#page rank of B\n",
    "print((.15/3)+.85*(0.386770602047/2))"
   ]
  },
  {
   "cell_type": "code",
   "execution_count": 20,
   "metadata": {},
   "outputs": [
    {
     "data": {
      "text/plain": [
       "[0.3973996608253251, 0.3877897117015263, 0.21481062747314866]"
      ]
     },
     "execution_count": 20,
     "metadata": {},
     "output_type": "execute_result"
    }
   ],
   "source": [
    "g.pagerank()"
   ]
  }
 ],
 "metadata": {
  "kernelspec": {
   "display_name": "Python 2",
   "language": "python",
   "name": "python2"
  },
  "language_info": {
   "codemirror_mode": {
    "name": "ipython",
    "version": 2
   },
   "file_extension": ".py",
   "mimetype": "text/x-python",
   "name": "python",
   "nbconvert_exporter": "python",
   "pygments_lexer": "ipython2",
   "version": "2.7.13"
  }
 },
 "nbformat": 4,
 "nbformat_minor": 2
}
